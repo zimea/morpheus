{
 "cells": [
  {
   "cell_type": "code",
   "execution_count": 3,
   "metadata": {},
   "outputs": [],
   "source": [
    "import os, sys\n",
    "import numpy as np\n",
    "import pandas as pd\n",
    "import datetime\n",
    "from functools import partial\n",
    "import tensorflow as tf\n",
    "import matplotlib.pyplot as plt\n",
    "from datetime import datetime\n",
    "#import plotnine as plt9\n",
    "#import patchworklib"
   ]
  },
  {
   "cell_type": "code",
   "execution_count": 61,
   "metadata": {},
   "outputs": [],
   "source": [
    "def stationary_WH(params, T0, t):\n",
    "    beta, rho, delta_V, rep = params\n",
    "    \n",
    "    I0 = 1\n",
    "    I = [I0]\n",
    "    T = [T0-I0]\n",
    "    V0 = 0\n",
    "    V = [V0]\n",
    "    res = [[0,T0-I0,I0,V0,beta, rho, delta_V, rep]]\n",
    "\n",
    "    for t in range(1, t):\n",
    "        T_t = np.clip(np.round(T[-1] - beta * T[-1] * V[-1]), 0, T0)\n",
    "        I_t = np.clip(np.round(I[-1] + beta * T[-1] * V[-1]), 0, T0)\n",
    "        V_t = np.clip(np.round(V[-1] + rho * I[-1] - delta_V * V[-1], decimals=5), 0, 100000)\n",
    "\n",
    "        T.append(T_t)\n",
    "        I.append(I_t)\n",
    "        V.append(V_t)\n",
    "        res.append([t,T_t,I_t,V_t,beta, rho, delta_V, rep])\n",
    "    return res"
   ]
  },
  {
   "cell_type": "code",
   "execution_count": 67,
   "metadata": {},
   "outputs": [],
   "source": [
    "params = np.array(np.meshgrid([0,0.2,0.4,0.6,0.8,1],[0,0.2,0.4,0.6,0.8,1],[0,0.2,0.4,0.6,0.8,1],[1,2,3,4,5])).T.reshape(-1,4)"
   ]
  },
  {
   "cell_type": "code",
   "execution_count": 69,
   "metadata": {},
   "outputs": [],
   "source": [
    "dfs = []\n",
    "for param in params:\n",
    "    df = stationary_WH(param, T0=50, t=41)\n",
    "    dfs.append(pd.DataFrame(df))\n",
    "dfs = pd.concat(dfs)"
   ]
  },
  {
   "cell_type": "code",
   "execution_count": 70,
   "metadata": {},
   "outputs": [],
   "source": [
    "dfs.columns = [\"time\",\"target\",\"infected\",\"virus\",\"beta\",\"rho\",\"delta\",\"rep\"]"
   ]
  },
  {
   "cell_type": "code",
   "execution_count": 71,
   "metadata": {},
   "outputs": [],
   "source": [
    "dfs.to_csv(\"simulations_ode.csv\",index=False)"
   ]
  }
 ],
 "metadata": {
  "kernelspec": {
   "display_name": "infectionSpread_venv",
   "language": "python",
   "name": "infectionspread_venv"
  },
  "language_info": {
   "codemirror_mode": {
    "name": "ipython",
    "version": 3
   },
   "file_extension": ".py",
   "mimetype": "text/x-python",
   "name": "python",
   "nbconvert_exporter": "python",
   "pygments_lexer": "ipython3",
   "version": "3.8.10"
  },
  "orig_nbformat": 4
 },
 "nbformat": 4,
 "nbformat_minor": 2
}
